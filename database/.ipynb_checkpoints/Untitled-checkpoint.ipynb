{
 "cells": [
  {
   "cell_type": "code",
   "execution_count": 37,
   "metadata": {},
   "outputs": [],
   "source": [
    "#outfile = open(\"data part 6-final.txt\",\"w\")\n",
    "infile = open(\"data part 6-1.txt\",\"r\")\n",
    "i = 1\n",
    "for line in infile:\n",
    "    #line = doSomething(line, next(infile))\n",
    "    ele = 0\n",
    "#     print(len(line))\n",
    "    while ele!= len(line):\n",
    "        if \"Generic Name: \" in line:\n",
    "            line.replace(\"Generic Name: \",\",\")\n",
    "#     print(line)\n",
    "        #print(i,x)"
   ]
  },
  {
   "cell_type": "code",
   "execution_count": null,
   "metadata": {},
   "outputs": [],
   "source": [
    "for line"
   ]
  },
  {
   "cell_type": "code",
   "execution_count": null,
   "metadata": {},
   "outputs": [],
   "source": []
  }
 ],
 "metadata": {
  "kernelspec": {
   "display_name": "Python 3",
   "language": "python",
   "name": "python3"
  }
 },
 "nbformat": 4,
 "nbformat_minor": 4
}
