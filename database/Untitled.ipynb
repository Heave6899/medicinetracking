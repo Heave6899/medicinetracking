{
 "cells": [
  {
   "cell_type": "code",
   "execution_count": null,
   "metadata": {},
   "outputs": [],
   "source": [
    "outfile = open(\"data part 6-final.txt\",\"w\")\n",
    "infile = open(\"data part 6.csv\",\"r\")\n",
    "for line in infile:\n",
    "    #line = doSomething(line, next(infile))\n",
    "    if \"Generic Name: \" and \"Common symptoms- \" in line:\n",
    "        newline=line.replace(\"Generic Name: \",\"\")\n",
    "        newline=newline.replace(\"Common symptoms- \",\",\")\n",
    "        print(newline)\n",
    "        outfile.write(newline)"
   ]
  },
  {
   "cell_type": "code",
   "execution_count": null,
   "metadata": {},
   "outputs": [],
   "source": [
    "for line"
   ]
  },
  {
   "cell_type": "code",
   "execution_count": null,
   "metadata": {},
   "outputs": [],
   "source": []
  }
 ],
 "metadata": {
  "kernelspec": {
   "display_name": "Python 3",
   "language": "python",
   "name": "python3"
  },
  "language_info": {
   "codemirror_mode": {
    "name": "ipython",
    "version": 3
   },
   "file_extension": ".py",
   "mimetype": "text/x-python",
   "name": "python",
   "nbconvert_exporter": "python",
   "pygments_lexer": "ipython3",
   "version": "3.7.6"
  }
 },
 "nbformat": 4,
 "nbformat_minor": 4
}
